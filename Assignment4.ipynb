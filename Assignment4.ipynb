{
 "cells": [
  {
   "cell_type": "code",
   "execution_count": 2,
   "metadata": {},
   "outputs": [],
   "source": [
    "import numpy as np\n",
    "import pandas as pd\n",
    "import random as rnd"
   ]
  },
  {
   "cell_type": "code",
   "execution_count": null,
   "metadata": {},
   "outputs": [],
   "source": [
    "1.\n",
    "#Write a function to find moving average in an array over a window:\n",
    "#Test it over [3, 5, 7, 2, 8, 10, 11, 65, 72, 81, 99, 100, 150] and window of 3."
   ]
  },
  {
   "cell_type": "code",
   "execution_count": 3,
   "metadata": {
    "scrolled": true
   },
   "outputs": [
    {
     "name": "stdout",
     "output_type": "stream",
     "text": [
      "5.0\n",
      "4.666666666666667\n",
      "5.666666666666667\n",
      "6.666666666666667\n",
      "9.666666666666666\n",
      "28.666666666666668\n",
      "49.333333333333336\n",
      "72.66666666666667\n",
      "84.0\n",
      "93.33333333333333\n"
     ]
    }
   ],
   "source": [
    "#Defined Fucntion to calculate the moving average\n",
    "# First paramater is the data and the 2nd is the size for which the avg needs to be calculated\n",
    "def moving_avg(data,window):\n",
    "    for i in range(len(data)-window):\n",
    "        y=np.sum(data[i:i+window])\n",
    "        print(y/window)\n",
    "\n",
    "        \n",
    "data = [3, 5, 7, 2, 8, 10, 11, 65, 72, 81, 99, 100, 150]\n",
    "moving_avg(data,3)"
   ]
  },
  {
   "cell_type": "code",
   "execution_count": null,
   "metadata": {},
   "outputs": [],
   "source": [
    "#How-to-count-distance-to-the-previous-zero\n",
    "#For each value, count the difference back to the previous zero (or the start of the Series,\n",
    "#whichever is closer)\n",
    "#create a new column 'Y'\n",
    "#Consider a DataFrame df where there is an integer column 'X'\n",
    "#import pandas as pd\n",
    "#df = pd.DataFrame({'X': [7, 2, 0, 3, 4, 2, 5, 0, 3, 4]})"
   ]
  },
  {
   "cell_type": "code",
   "execution_count": 5,
   "metadata": {},
   "outputs": [
    {
     "name": "stdout",
     "output_type": "stream",
     "text": [
      "Final DataFrame is as below\n"
     ]
    },
    {
     "data": {
      "text/html": [
       "<div>\n",
       "<style scoped>\n",
       "    .dataframe tbody tr th:only-of-type {\n",
       "        vertical-align: middle;\n",
       "    }\n",
       "\n",
       "    .dataframe tbody tr th {\n",
       "        vertical-align: top;\n",
       "    }\n",
       "\n",
       "    .dataframe thead th {\n",
       "        text-align: right;\n",
       "    }\n",
       "</style>\n",
       "<table border=\"1\" class=\"dataframe\">\n",
       "  <thead>\n",
       "    <tr style=\"text-align: right;\">\n",
       "      <th></th>\n",
       "      <th>X</th>\n",
       "      <th>Y</th>\n",
       "    </tr>\n",
       "  </thead>\n",
       "  <tbody>\n",
       "    <tr>\n",
       "      <th>0</th>\n",
       "      <td>7</td>\n",
       "      <td>1</td>\n",
       "    </tr>\n",
       "    <tr>\n",
       "      <th>1</th>\n",
       "      <td>2</td>\n",
       "      <td>2</td>\n",
       "    </tr>\n",
       "    <tr>\n",
       "      <th>2</th>\n",
       "      <td>0</td>\n",
       "      <td>0</td>\n",
       "    </tr>\n",
       "    <tr>\n",
       "      <th>3</th>\n",
       "      <td>3</td>\n",
       "      <td>1</td>\n",
       "    </tr>\n",
       "    <tr>\n",
       "      <th>4</th>\n",
       "      <td>4</td>\n",
       "      <td>2</td>\n",
       "    </tr>\n",
       "    <tr>\n",
       "      <th>5</th>\n",
       "      <td>2</td>\n",
       "      <td>3</td>\n",
       "    </tr>\n",
       "    <tr>\n",
       "      <th>6</th>\n",
       "      <td>5</td>\n",
       "      <td>4</td>\n",
       "    </tr>\n",
       "    <tr>\n",
       "      <th>7</th>\n",
       "      <td>0</td>\n",
       "      <td>0</td>\n",
       "    </tr>\n",
       "    <tr>\n",
       "      <th>8</th>\n",
       "      <td>3</td>\n",
       "      <td>1</td>\n",
       "    </tr>\n",
       "    <tr>\n",
       "      <th>9</th>\n",
       "      <td>4</td>\n",
       "      <td>2</td>\n",
       "    </tr>\n",
       "  </tbody>\n",
       "</table>\n",
       "</div>"
      ],
      "text/plain": [
       "   X  Y\n",
       "0  7  1\n",
       "1  2  2\n",
       "2  0  0\n",
       "3  3  1\n",
       "4  4  2\n",
       "5  2  3\n",
       "6  5  4\n",
       "7  0  0\n",
       "8  3  1\n",
       "9  4  2"
      ]
     },
     "execution_count": 5,
     "metadata": {},
     "output_type": "execute_result"
    }
   ],
   "source": [
    "df = pd.DataFrame({'X': [7, 2, 0, 3, 4, 2, 5, 0, 3, 4]})\n",
    "dataSeries = pd.Series([7, 2, 0, 3, 4, 2, 5, 0, 3, 4])\n",
    "df['Y']=(dataSeries.groupby(dataSeries.eq(0).cumsum().mask(dataSeries.eq(0))).cumcount() + 1).mask(dataSeries.eq(0), 0).tolist()\n",
    "print('Final DataFrame is as below')\n",
    "df"
   ]
  },
  {
   "cell_type": "code",
   "execution_count": null,
   "metadata": {},
   "outputs": [],
   "source": [
    "#2.\n",
    "#Create a DatetimeIndex that contains each business day of 2015 and use it to index a Series of\n",
    "#random numbers."
   ]
  },
  {
   "cell_type": "code",
   "execution_count": 7,
   "metadata": {},
   "outputs": [],
   "source": [
    "#Below Fucniton to get the Random numbers of length as per parameter passed\n",
    "def getRandomNumbers(len):\n",
    "    lRandNum = []\n",
    "    for x in range(0,len):\n",
    "        lRandNum.append(rnd.randint(0,len))\n",
    "                \n",
    "    return lRandNum"
   ]
  },
  {
   "cell_type": "code",
   "execution_count": 18,
   "metadata": {},
   "outputs": [
    {
     "data": {
      "text/plain": [
       "2015-01-01    154\n",
       "2015-01-02     47\n",
       "2015-01-05    253\n",
       "2015-01-06     70\n",
       "2015-01-07    171\n",
       "2015-01-08     80\n",
       "2015-01-09     47\n",
       "2015-01-12     10\n",
       "2015-01-13     67\n",
       "2015-01-14    129\n",
       "2015-01-15     32\n",
       "2015-01-16    205\n",
       "2015-01-19    182\n",
       "2015-01-20    145\n",
       "2015-01-21    120\n",
       "2015-01-22    134\n",
       "2015-01-23     77\n",
       "2015-01-26    103\n",
       "2015-01-27     49\n",
       "2015-01-28      6\n",
       "2015-01-29     94\n",
       "2015-01-30    129\n",
       "2015-02-02    232\n",
       "2015-02-03    256\n",
       "2015-02-04     60\n",
       "2015-02-05    205\n",
       "2015-02-06    214\n",
       "2015-02-09    241\n",
       "2015-02-10     97\n",
       "2015-02-11     34\n",
       "             ... \n",
       "2015-11-20    141\n",
       "2015-11-23    100\n",
       "2015-11-24    114\n",
       "2015-11-25    117\n",
       "2015-11-26     12\n",
       "2015-11-27    158\n",
       "2015-11-30    195\n",
       "2015-12-01     42\n",
       "2015-12-02    221\n",
       "2015-12-03     46\n",
       "2015-12-04    229\n",
       "2015-12-07    240\n",
       "2015-12-08    235\n",
       "2015-12-09    200\n",
       "2015-12-10    234\n",
       "2015-12-11     88\n",
       "2015-12-14     31\n",
       "2015-12-15    204\n",
       "2015-12-16    155\n",
       "2015-12-17    163\n",
       "2015-12-18    131\n",
       "2015-12-21    204\n",
       "2015-12-22     95\n",
       "2015-12-23    243\n",
       "2015-12-24    254\n",
       "2015-12-25    192\n",
       "2015-12-28    213\n",
       "2015-12-29     71\n",
       "2015-12-30    207\n",
       "2015-12-31    185\n",
       "Freq: B, Length: 261, dtype: int64"
      ]
     },
     "execution_count": 18,
     "metadata": {},
     "output_type": "execute_result"
    }
   ],
   "source": [
    "#Getting Business Days\n",
    "bDays = pd.DatetimeIndex(start='2015-01-01',end='2015-12-31', freq='B')\n",
    "\n",
    "# Below Lines For business Days\n",
    "lRandNum = getRandomNumbers(len(bDays))\n",
    "\n",
    "#DataSeries with index as Business Days\n",
    "dateSeries= pd.Series(lRandNum, index=bDays)\n",
    "\n",
    "#Printing the dateSeries with indes as business date\n",
    "dateSeries"
   ]
  },
  {
   "cell_type": "code",
   "execution_count": null,
   "metadata": {},
   "outputs": [],
   "source": [
    "#3.\n",
    "#Find the sum of the values in s for every Wednesday"
   ]
  },
  {
   "cell_type": "code",
   "execution_count": 21,
   "metadata": {},
   "outputs": [
    {
     "data": {
      "text/plain": [
       "6878"
      ]
     },
     "execution_count": 21,
     "metadata": {},
     "output_type": "execute_result"
    }
   ],
   "source": [
    "#Creating DataFrame with Date and Random numbers\n",
    "\n",
    "bDateFrame=pd.DataFrame({'BusDays': bDays})\n",
    "\n",
    "# Below Lines For business Days\n",
    "bDateFrame['RandomNum']=lRandNum\n",
    "\n",
    "#Selecting only Wednesdays\n",
    "wedDays = bDateFrame[bDays.weekday == 2]\n",
    "\n",
    "#To get the Sum of Numbers for all Wednesdays\n",
    "wedDays.RandomNum.sum()"
   ]
  },
  {
   "cell_type": "code",
   "execution_count": null,
   "metadata": {},
   "outputs": [],
   "source": [
    "#4.\n",
    "#Average For each calendar month"
   ]
  },
  {
   "cell_type": "code",
   "execution_count": 22,
   "metadata": {
    "scrolled": true
   },
   "outputs": [
    {
     "data": {
      "text/plain": [
       "2015-01-31    104.727273\n",
       "2015-02-28    135.650000\n",
       "2015-03-31    121.363636\n",
       "2015-04-30    107.181818\n",
       "2015-05-31    132.238095\n",
       "2015-06-30    119.090909\n",
       "2015-07-31    133.130435\n",
       "2015-08-31    124.619048\n",
       "2015-09-30    138.272727\n",
       "2015-10-31    111.909091\n",
       "2015-11-30    115.047619\n",
       "2015-12-31    168.826087\n",
       "Freq: M, dtype: float64"
      ]
     },
     "execution_count": 22,
     "metadata": {},
     "output_type": "execute_result"
    }
   ],
   "source": [
    "dateSeries.resample('M').mean()"
   ]
  },
  {
   "cell_type": "code",
   "execution_count": null,
   "metadata": {},
   "outputs": [],
   "source": [
    "#5.\n",
    "#For each group of four consecutive calendar months in s, find the date on which the highest\n",
    "#value occurred"
   ]
  },
  {
   "cell_type": "code",
   "execution_count": 20,
   "metadata": {},
   "outputs": [
    {
     "name": "stderr",
     "output_type": "stream",
     "text": [
      "C:\\Users\\vivekp\\AppData\\Local\\Continuum\\anaconda3\\lib\\site-packages\\ipykernel_launcher.py:1: FutureWarning: pd.TimeGrouper is deprecated and will be removed; Please use pd.Grouper(freq=...)\n",
      "  \"\"\"Entry point for launching an IPython kernel.\n"
     ]
    },
    {
     "data": {
      "text/plain": [
       "2015-01-31   2015-01-05\n",
       "2015-05-31   2015-02-03\n",
       "2015-09-30   2015-07-16\n",
       "2016-01-31   2015-12-24\n",
       "dtype: datetime64[ns]"
      ]
     },
     "execution_count": 20,
     "metadata": {},
     "output_type": "execute_result"
    }
   ],
   "source": [
    "dateSeries.groupby(pd.TimeGrouper('4M')).idxmax()"
   ]
  }
 ],
 "metadata": {
  "kernelspec": {
   "display_name": "Python 3",
   "language": "python",
   "name": "python3"
  },
  "language_info": {
   "codemirror_mode": {
    "name": "ipython",
    "version": 3
   },
   "file_extension": ".py",
   "mimetype": "text/x-python",
   "name": "python",
   "nbconvert_exporter": "python",
   "pygments_lexer": "ipython3",
   "version": "3.6.4"
  }
 },
 "nbformat": 4,
 "nbformat_minor": 2
}
